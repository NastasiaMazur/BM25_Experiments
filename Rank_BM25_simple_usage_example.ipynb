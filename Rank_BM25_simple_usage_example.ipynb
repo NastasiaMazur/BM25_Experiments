{
  "nbformat": 4,
  "nbformat_minor": 0,
  "metadata": {
    "colab": {
      "provenance": [],
      "authorship_tag": "ABX9TyM9Cr2eJ9lobqpdP8PkYk4K",
      "include_colab_link": true
    },
    "kernelspec": {
      "name": "python3",
      "display_name": "Python 3"
    },
    "language_info": {
      "name": "python"
    }
  },
  "cells": [
    {
      "cell_type": "markdown",
      "metadata": {
        "id": "view-in-github",
        "colab_type": "text"
      },
      "source": [
        "<a href=\"https://colab.research.google.com/github/NastasiaMazur/BM25_Experiments/blob/main/Rank_BM25_simple_usage_example.ipynb\" target=\"_parent\"><img src=\"https://colab.research.google.com/assets/colab-badge.svg\" alt=\"Open In Colab\"/></a>"
      ]
    },
    {
      "cell_type": "markdown",
      "source": [
        "# **Rank-BM25:** A two line search engine"
      ],
      "metadata": {
        "id": "g-0X8YUWoUPL"
      }
    },
    {
      "cell_type": "code",
      "source": [
        "!pip install rank_bm25"
      ],
      "metadata": {
        "colab": {
          "base_uri": "https://localhost:8080/"
        },
        "id": "UfuQGQWJnQaQ",
        "outputId": "50eb9a45-0bc8-4984-920e-cec2079de57f"
      },
      "execution_count": 3,
      "outputs": [
        {
          "output_type": "stream",
          "name": "stdout",
          "text": [
            "Requirement already satisfied: rank_bm25 in /usr/local/lib/python3.10/dist-packages (0.2.2)\n",
            "Requirement already satisfied: numpy in /usr/local/lib/python3.10/dist-packages (from rank_bm25) (1.25.2)\n"
          ]
        }
      ]
    },
    {
      "cell_type": "markdown",
      "source": [
        "Note: this package doesn't do any text preprocessing. If you want to do things like lowercasing, stopword removal, stemming, etc, you need to do it yourself.\n",
        "\n",
        "The only requirements is that the class receives a list of lists of strings, which are the document tokens."
      ],
      "metadata": {
        "id": "-AotJVulncv8"
      }
    },
    {
      "cell_type": "code",
      "source": [
        "from rank_bm25 import BM25Okapi\n",
        "\n",
        "corpus = [\n",
        "    \"Hello there good man!\",\n",
        "    \"It is quite windy in London\",\n",
        "    \"How is the weather today?\"\n",
        "]\n",
        "\n",
        "tokenized_corpus = [doc.split(\" \") for doc in corpus]\n",
        "\n",
        "bm25 = BM25Okapi(tokenized_corpus)\n",
        "# <rank_bm25.BM25Okapi at 0x1047881d0>"
      ],
      "metadata": {
        "id": "RKF1dZibnWzy"
      },
      "execution_count": 4,
      "outputs": []
    },
    {
      "cell_type": "markdown",
      "source": [
        "# **Ranking of documents**"
      ],
      "metadata": {
        "id": "G88crQf3nq0W"
      }
    },
    {
      "cell_type": "markdown",
      "source": [
        "Now that we've created our document indexes, we can give it queries and see which documents are the most relevant:"
      ],
      "metadata": {
        "id": "JKAFXpVknvf5"
      }
    },
    {
      "cell_type": "code",
      "source": [
        "query = \"windy London\"\n",
        "tokenized_query = query.split(\" \")\n",
        "\n",
        "doc_scores = bm25.get_scores(tokenized_query)\n",
        "# array([0.        , 0.93729472, 0.        ])"
      ],
      "metadata": {
        "id": "L-I3iC8An0DV"
      },
      "execution_count": 5,
      "outputs": []
    },
    {
      "cell_type": "markdown",
      "source": [
        "Good to note that we also need to **tokenize our query**, and apply the same preprocessing steps we did to the documents in order to have an apples-to-apples comparison\n",
        "\n",
        "Instead of getting the document scores, you can also just retrieve the best documents with"
      ],
      "metadata": {
        "id": "kJauV6W2n4Yj"
      }
    },
    {
      "cell_type": "code",
      "source": [
        "bm25.get_top_n(tokenized_query, corpus, n=1)\n",
        "# ['It is quite windy in London']"
      ],
      "metadata": {
        "colab": {
          "base_uri": "https://localhost:8080/"
        },
        "id": "ZjjTLAgln6NG",
        "outputId": "e33e1f99-1c06-4545-b86c-53e103bdd477"
      },
      "execution_count": 6,
      "outputs": [
        {
          "output_type": "execute_result",
          "data": {
            "text/plain": [
              "['It is quite windy in London']"
            ]
          },
          "metadata": {},
          "execution_count": 6
        }
      ]
    },
    {
      "cell_type": "markdown",
      "source": [
        "And that's pretty much it!\n",
        "\n",
        "*Source*: https://pypi.org/project/rank-bm25/"
      ],
      "metadata": {
        "id": "YdNd3cgMoCYH"
      }
    }
  ]
}